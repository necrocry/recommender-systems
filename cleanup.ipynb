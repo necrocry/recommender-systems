{
 "cells": [
  {
   "cell_type": "markdown",
   "metadata": {},
   "source": [
    "# Обосновка на проект за Линейна алгебра и аналитична геометрия\n",
    "\n",
    "Целта на проекта е да се сравнят два метода различни метода за предсказване филмови рейтинги от база данни."
   ]
  },
  {
   "cell_type": "code",
   "execution_count": 97,
   "metadata": {},
   "outputs": [],
   "source": [
    "# Стойности за тестване - всяка ненулева стойност в главния диагонал на матрицата R[0][0], R[1][1]... R[20][20]"
   ]
  },
  {
   "cell_type": "markdown",
   "metadata": {},
   "source": [
    "# Матрична факторизация"
   ]
  },
  {
   "cell_type": "code",
   "execution_count": 3,
   "metadata": {},
   "outputs": [],
   "source": [
    "import numpy as np\n",
    "import pandas as pd\n",
    "\n",
    "import time\n",
    "\n",
    "from IPython.display import HTML\n",
    "HTML(\"<style>.h,.c{display:none}.t{color:#296eaa}.t:active+.h{display:block;}</style>\")\n",
    "\n",
    "import warnings\n",
    "warnings.filterwarnings(\"ignore\", category=FutureWarning) "
   ]
  },
  {
   "cell_type": "code",
   "execution_count": 4,
   "metadata": {},
   "outputs": [],
   "source": [
    "df = pd.read_csv('datasets/user_reviews.csv', index_col=False)\n",
    "df = df.drop([\"User\"], axis=1)\n",
    "matrix = df.to_numpy()"
   ]
  },
  {
   "cell_type": "code",
   "execution_count": 7,
   "metadata": {},
   "outputs": [
    {
     "name": "stdout",
     "output_type": "stream",
     "text": [
      "[[2 4 0 0 0 0 0 0 0 4 0 0 0 0 0 0 0 0 0 0 0 0 5]\n",
      " [4 5 4 4 5 4 5 4 4 4 5 5 3 4 3 3 2 3 3 4 3 4 3]\n",
      " [4 4 4 3 5 0 5 0 0 5 2 5 2 5 1 5 5 5 5 4 0 4 0]\n",
      " [5 5 4 4 5 4 4 3 4 3 5 5 3 3 5 4 5 5 3 4 3 5 4]\n",
      " [4 5 4 4 5 3 5 2 3 2 2 4 3 3 2 3 3 5 4 5 4 4 3]\n",
      " [0 4 0 5 5 0 0 0 0 0 0 0 0 0 3 0 5 0 0 5 0 0 0]\n",
      " [5 4 4 3 5 4 5 3 5 4 3 4 2 4 3 4 5 0 4 1 2 5 1]\n",
      " [0 5 5 4 5 0 0 4 0 0 0 0 3 0 3 4 5 0 5 4 3 0 0]\n",
      " [0 4 0 0 0 0 0 1 0 0 0 0 0 0 5 0 5 0 0 2 0 0 0]\n",
      " [0 5 5 4 5 0 0 5 3 0 4 0 4 0 5 4 2 0 5 4 2 0 0]\n",
      " [0 5 3 4 5 1 0 0 4 5 3 0 0 3 0 5 4 5 4 0 0 0 5]\n",
      " [3 4 5 4 5 1 2 2 3 4 2 2 2 2 3 3 5 2 2 2 4 2 0]\n",
      " [5 5 0 2 5 0 0 5 0 0 0 0 0 0 1 2 3 3 0 2 0 3 0]\n",
      " [0 5 5 5 5 0 0 2 0 0 0 5 3 0 0 0 5 0 0 0 2 0 0]\n",
      " [4 5 5 5 5 2 5 2 4 2 2 4 5 5 2 5 4 2 5 5 2 2 2]\n",
      " [3 5 5 2 5 4 5 3 4 1 3 3 3 3 3 3 4 4 3 3 3 3 4]\n",
      " [0 5 5 2 5 0 5 1 0 5 0 4 3 4 4 4 4 4 0 5 0 4 1]\n",
      " [0 4 5 5 5 0 5 3 2 0 2 5 0 0 3 5 0 3 0 5 3 0 3]\n",
      " [5 5 5 5 5 5 5 1 3 3 5 5 4 2 5 4 1 0 2 5 1 1 2]\n",
      " [5 5 5 5 3 5 5 4 1 1 3 5 5 3 3 4 1 2 3 4 1 4 3]\n",
      " [5 4 5 4 5 3 2 4 0 0 5 5 5 0 4 5 5 0 5 5 5 0 0]]\n"
     ]
    }
   ],
   "source": [
    "print(matrix)"
   ]
  }
 ],
 "metadata": {
  "kernelspec": {
   "display_name": "Python 3",
   "language": "python",
   "name": "python3"
  },
  "language_info": {
   "codemirror_mode": {
    "name": "ipython",
    "version": 3
   },
   "file_extension": ".py",
   "mimetype": "text/x-python",
   "name": "python",
   "nbconvert_exporter": "python",
   "pygments_lexer": "ipython3",
   "version": "3.8.8"
  },
  "toc": {
   "base_numbering": 1,
   "nav_menu": {
    "height": "174px",
    "width": "252px"
   },
   "number_sections": false,
   "sideBar": true,
   "skip_h1_title": false,
   "title_cell": "Table of Contents",
   "title_sidebar": "Contents",
   "toc_cell": true,
   "toc_position": {
    "height": "684px",
    "left": "0px",
    "right": "989px",
    "top": "107px",
    "width": "230px"
   },
   "toc_section_display": "block",
   "toc_window_display": true
  }
 },
 "nbformat": 4,
 "nbformat_minor": 4
}
